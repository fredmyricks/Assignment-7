{
 "cells": [
  {
   "cell_type": "code",
   "execution_count": null,
   "id": "initial_id",
   "metadata": {
    "collapsed": true
   },
   "outputs": [],
   "source": [
    "#Importin the data\n",
    "\n",
    "from ucimlrepo import fetch_ucirepo \n",
    "  \n",
    "# fetch dataset \n",
    "auto_mpg = fetch_ucirepo(id=9) \n",
    "  \n",
    "# data (as pandas dataframes) \n",
    "X = auto_mpg.data.features \n",
    "y = auto_mpg.data.targets \n",
    "  \n",
    "# metadata \n",
    "print(auto_mpg.metadata) \n",
    "  \n",
    "# variable information \n",
    "print(auto_mpg.variables) \n"
   ]
  },
  {
   "cell_type": "code",
   "outputs": [],
   "source": [],
   "metadata": {
    "collapsed": false
   },
   "id": "6c06723c9784d7c9"
  },
  {
   "cell_type": "code",
   "outputs": [],
   "source": [
    "import pandas as pd\n",
    "import matplotlib.pyplot as plt\n",
    "import seaborn as sns\n",
    "\n",
    "# 1. Load the data into a pandas DataFrame\n",
    "url = \"https://archive.ics.uci.edu/ml/machine-learning-databases/auto-mpg/auto-mpg.data\"\n",
    "column_names = ['mpg', 'cylinders', 'displacement', 'horsepower', 'weight', 'acceleration', 'model_year', 'origin', 'car_name']\n",
    "auto_df = pd.read_csv(url, delim_whitespace=True, names=column_names)\n",
    "\n",
    "# 2. Reviewing the data and the provided data set description\n",
    "print(auto_df.head())\n",
    "print(auto_df.info())\n",
    "\n",
    "# 3. Name DataFrame columns using attribute information from auto-mpg.names\n",
    "# Done above while loading the data\n",
    "\n",
    "# 4. Replacing '?' in horsepower column with pandas-appropriate missing value and convert to numeric\n",
    "auto_df['horsepower'] = pd.to_numeric(auto_df['horsepower'], errors='coerce')\n",
    "\n",
    "# 5. Convert origin column values 1, 2, and 3 to 'USA', 'Asia', and 'Europe' respectively\n",
    "auto_df['origin'] = auto_df['origin'].map({1: 'USA', 2: 'Asia', 3: 'Europe'})\n",
    "\n",
    "# 6. A bar chart showing the distribution for cylinders\n",
    "plt.figure(figsize=(8, 6))\n",
    "sns.countplot(data=auto_df, x='cylinders')\n",
    "plt.title('Distribution of Cylinders')\n",
    "plt.xlabel('Cylinders')\n",
    "plt.ylabel('Count')\n",
    "plt.show()\n",
    "\n",
    "# 7. Scatterplot showing the relationship between horsepower and weight\n",
    "plt.figure(figsize=(8, 6))\n",
    "sns.scatterplot(data=auto_df, x='horsepower', y='weight')\n",
    "plt.title('Relationship between Horsepower and Weight')\n",
    "plt.xlabel('Horsepower')\n",
    "plt.ylabel('Weight')\n",
    "plt.show()\n",
    "\n",
    "# 8. Interesting question about the distribution or relationship in the dataset\n",
    "# Example: Is there a relationship between horsepower and fuel efficiency (mpg)?\n",
    "plt.figure(figsize=(8, 6))\n",
    "sns.scatterplot(data=auto_df, x='horsepower', y='mpg')\n",
    "plt.title('Relationship between Horsepower and Fuel Efficiency')\n",
    "plt.xlabel('Horsepower')\n",
    "plt.ylabel('Miles Per Gallon (mpg)')\n",
    "plt.show()\n"
   ],
   "metadata": {
    "collapsed": false
   },
   "id": "c960eb0260d43bc4",
   "execution_count": null
  },
  {
   "cell_type": "code",
   "outputs": [],
   "source": [],
   "metadata": {
    "collapsed": false
   },
   "id": "45d543e58dd68c2c"
  }
 ],
 "metadata": {
  "kernelspec": {
   "display_name": "Python 3",
   "language": "python",
   "name": "python3"
  },
  "language_info": {
   "codemirror_mode": {
    "name": "ipython",
    "version": 2
   },
   "file_extension": ".py",
   "mimetype": "text/x-python",
   "name": "python",
   "nbconvert_exporter": "python",
   "pygments_lexer": "ipython2",
   "version": "2.7.6"
  }
 },
 "nbformat": 4,
 "nbformat_minor": 5
}
