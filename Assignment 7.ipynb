#%%
#Importing the data

from ucimlrepo import fetch_ucirepo 
  
# fetch dataset 
auto_mpg = fetch_ucirepo(id=9) 
  
# data (as pandas dataframes) 
X = auto_mpg.data.features 
y = auto_mpg.data.targets 
  
# metadata 
print(auto_mpg.metadata) 
  
# variable information 
print(auto_mpg.variables) 

#%%

#%%
import pandas as pd
import matplotlib.pyplot as plt
import seaborn as sns

# 1. Load the data into a pandas DataFrame
url = "https://archive.ics.uci.edu/ml/machine-learning-databases/auto-mpg/auto-mpg.data"
column_names = ['mpg', 'cylinders', 'displacement', 'horsepower', 'weight', 'acceleration', 'model_year', 'origin', 'car_name']
auto_df = pd.read_csv(url, delim_whitespace=True, names=column_names)

# 2. Reviewing the data and the provided data set description
print(auto_df.head())
print(auto_df.info())

# 3. Name DataFrame columns using attribute information from auto-mpg.names
# Done above while loading the data

# 4. Replacing '?' in horsepower column with pandas-appropriate missing value and convert to numeric
auto_df['horsepower'] = pd.to_numeric(auto_df['horsepower'], errors='coerce')

# 5. Convert origin column values 1, 2, and 3 to 'USA', 'Asia', and 'Europe' respectively
auto_df['origin'] = auto_df['origin'].map({1: 'USA', 2: 'Asia', 3: 'Europe'})

# 6. A bar chart showing the distribution for cylinders
plt.figure(figsize=(8, 6))
sns.countplot(data=auto_df, x='cylinders')
plt.title('Distribution of Cylinders')
plt.xlabel('Cylinders')
plt.ylabel('Count')
plt.show()

# 7. Scatterplot showing the relationship between horsepower and weight
plt.figure(figsize=(8, 6))
sns.scatterplot(data=auto_df, x='horsepower', y='weight')
plt.title('Relationship between Horsepower and Weight')
plt.xlabel('Horsepower')
plt.ylabel('Weight')
plt.show()

# 8. Interesting question about the distribution or relationship in the dataset
# Example: Is there a relationship between horsepower and fuel efficiency (mpg)?
plt.figure(figsize=(8, 6))
sns.scatterplot(data=auto_df, x='horsepower', y='mpg')
plt.title('Relationship between Horsepower and Fuel Efficiency')
plt.xlabel('Horsepower')
plt.ylabel('Miles Per Gallon (mpg)')
plt.show()

#%%
